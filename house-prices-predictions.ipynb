{
 "cells": [
  {
   "cell_type": "code",
   "execution_count": 1,
   "metadata": {},
   "outputs": [],
   "source": [
    "import pandas as pd\n",
    "import tensorflow as tf\n",
    "import numpy as np\n",
    "import matplotlib.pyplot as plt"
   ]
  },
  {
   "cell_type": "code",
   "execution_count": 2,
   "metadata": {},
   "outputs": [],
   "source": [
    "df_train = pd.read_csv('train.csv', index_col=0)"
   ]
  },
  {
   "cell_type": "code",
   "execution_count": 3,
   "metadata": {},
   "outputs": [],
   "source": [
    "df_test = pd.read_csv('test.csv', index_col=0)"
   ]
  },
  {
   "cell_type": "code",
   "execution_count": 4,
   "metadata": {},
   "outputs": [],
   "source": [
    "years = 2018 - df_train['YearBuilt']"
   ]
  },
  {
   "cell_type": "code",
   "execution_count": 5,
   "metadata": {},
   "outputs": [],
   "source": [
    "years = pd.DataFrame(years)\n",
    "years = years.rename(columns={\"YearBuilt\":\"Years\"})"
   ]
  },
  {
   "cell_type": "code",
   "execution_count": 6,
   "metadata": {},
   "outputs": [],
   "source": [
    "x_train = pd.concat([df_train, years], axis=1)"
   ]
  },
  {
   "cell_type": "code",
   "execution_count": 7,
   "metadata": {},
   "outputs": [],
   "source": [
    "# notUsedFeatures = ['MSSubClass', 'MSZoning', 'LotFrontage', 'Stree', 'Alley', 'LotShape', 'LandContour', 'Utilities', 'LotConfig', 'LandSlope', 'Neighborhood', 'Condition1', 'Condition2', 'BldgType', 'HouseStyle', 'OverallQual', 'OverallCond', 'YearBuilt', 'YearRemodAdd', 'RoofStyle', 'RoofMatl']\n",
    "x_train = x_train[['LotArea', '1stFlrSF', '2ndFlrSF', 'BedroomAbvGr', 'KitchenAbvGr', 'PoolArea', 'Years']]"
   ]
  },
  {
   "cell_type": "code",
   "execution_count": 8,
   "metadata": {},
   "outputs": [],
   "source": [
    "x_train = np.matrix(x_train)"
   ]
  },
  {
   "cell_type": "code",
   "execution_count": 9,
   "metadata": {},
   "outputs": [
    {
     "data": {
      "text/plain": [
       "matrix([[ 8450,   856,   854, ...,     1,     0,    15],\n",
       "        [ 9600,  1262,     0, ...,     1,     0,    42],\n",
       "        [11250,   920,   866, ...,     1,     0,    17],\n",
       "        ...,\n",
       "        [ 9042,  1188,  1152, ...,     1,     0,    77],\n",
       "        [ 9717,  1078,     0, ...,     1,     0,    68],\n",
       "        [ 9937,  1256,     0, ...,     1,     0,    53]])"
      ]
     },
     "execution_count": 9,
     "metadata": {},
     "output_type": "execute_result"
    }
   ],
   "source": [
    "x_train"
   ]
  },
  {
   "cell_type": "code",
   "execution_count": 64,
   "metadata": {},
   "outputs": [],
   "source": [
    "y_train = df_train[['SalePrice']]\n",
    "y_train = np.matrix(y_train)"
   ]
  },
  {
   "cell_type": "code",
   "execution_count": 65,
   "metadata": {},
   "outputs": [],
   "source": [
    "def initialize_parameters(x):\n",
    "    theta = np.random.rand(1, x.shape[1])\n",
    "    theta = np.matrix(theta)\n",
    "    return theta"
   ]
  },
  {
   "cell_type": "code",
   "execution_count": 66,
   "metadata": {},
   "outputs": [],
   "source": [
    "def h(x, theta):\n",
    "    y_predict = x * theta.T\n",
    "    return y_predict"
   ]
  },
  {
   "cell_type": "code",
   "execution_count": 67,
   "metadata": {},
   "outputs": [],
   "source": [
    "def cost_function(h, y):\n",
    "    m = y.shape[0]\n",
    "    total_loss = np.square(np.subtract(h, y)).sum(axis=0)\n",
    "    cost = (1./(2. * m)) * total_loss\n",
    "    cost = np.asscalar(cost)\n",
    "    return cost"
   ]
  },
  {
   "cell_type": "code",
   "execution_count": 80,
   "metadata": {},
   "outputs": [],
   "source": [
    "def fit(x, y, num_iterations=100, learning_rate=0.001):\n",
    "    theta = initialize_parameters(x)\n",
    "    m = x.shape[0]\n",
    "    costs = []\n",
    "    for i in range(num_iterations):\n",
    "        for j in range(x.shape[1]):\n",
    "            theta[0, j] = theta[0, j] - learning_rate * ((1.0/m)*((np.multiply(np.subtract(h(x, theta), y),(x[:, j]))).sum(axis = 0)))\n",
    "        y_predict = h(x, theta)\n",
    "        costs.append(cost_function(y_predict, y))\n",
    "        if i % 1000 == 0:\n",
    "            print(\"Cost after {} iterations: {}\".format(i, costs[i]))\n",
    "    return theta, costs"
   ]
  },
  {
   "cell_type": "code",
   "execution_count": 69,
   "metadata": {},
   "outputs": [
    {
     "data": {
      "text/plain": [
       "((1460, 7), (1460, 1))"
      ]
     },
     "execution_count": 69,
     "metadata": {},
     "output_type": "execute_result"
    }
   ],
   "source": [
    "x_train.shape, y_train.shape"
   ]
  },
  {
   "cell_type": "code",
   "execution_count": 70,
   "metadata": {},
   "outputs": [],
   "source": [
    "from sklearn.preprocessing import MinMaxScaler\n",
    "scaler = MinMaxScaler()\n",
    "x_train_norm = scaler.fit_transform(x_train)"
   ]
  },
  {
   "cell_type": "code",
   "execution_count": 72,
   "metadata": {},
   "outputs": [],
   "source": [
    "x_train_norm = np.matrix(x_train_norm)\n",
    "x_train_norm = np.insert(x_train_norm, 0, 1, axis = 1)"
   ]
  },
  {
   "cell_type": "code",
   "execution_count": 74,
   "metadata": {},
   "outputs": [
    {
     "data": {
      "text/plain": [
       "(1460, 8)"
      ]
     },
     "execution_count": 74,
     "metadata": {},
     "output_type": "execute_result"
    }
   ],
   "source": [
    "x_train_norm.shape"
   ]
  },
  {
   "cell_type": "code",
   "execution_count": 81,
   "metadata": {},
   "outputs": [
    {
     "name": "stdout",
     "output_type": "stream",
     "text": [
      "Cost after 0 iterations: 19514893843.4\n",
      "Cost after 1000 iterations: 15538610751.1\n",
      "Cost after 2000 iterations: 12531022664.6\n",
      "Cost after 3000 iterations: 10255293018.1\n",
      "Cost after 4000 iterations: 8532496976.47\n",
      "Cost after 5000 iterations: 7227460676.62\n",
      "Cost after 6000 iterations: 6238063103.68\n",
      "Cost after 7000 iterations: 5487153906.03\n"
     ]
    }
   ],
   "source": [
    "theta, costs = fit(x_train_norm, y_train, num_iterations=8000, learning_rate=0.0001)"
   ]
  },
  {
   "cell_type": "code",
   "execution_count": 76,
   "metadata": {},
   "outputs": [],
   "source": [
    "y_predict = h(x_train_norm, theta)"
   ]
  },
  {
   "cell_type": "code",
   "execution_count": 84,
   "metadata": {},
   "outputs": [
    {
     "data": {
      "text/plain": [
       "matrix([[1.        , 0.0334198 , 0.11977972, ..., 0.33333333, 0.        ,\n",
       "         0.05072464],\n",
       "        [1.        , 0.03879502, 0.21294172, ..., 0.33333333, 0.        ,\n",
       "         0.24637681],\n",
       "        [1.        , 0.04650728, 0.13446535, ..., 0.33333333, 0.        ,\n",
       "         0.06521739],\n",
       "        ...,\n",
       "        [1.        , 0.03618687, 0.19596145, ..., 0.33333333, 0.        ,\n",
       "         0.5       ],\n",
       "        [1.        , 0.03934189, 0.17072051, ..., 0.33333333, 0.        ,\n",
       "         0.43478261],\n",
       "        [1.        , 0.04037019, 0.21156494, ..., 0.33333333, 0.        ,\n",
       "         0.32608696]])"
      ]
     },
     "execution_count": 84,
     "metadata": {},
     "output_type": "execute_result"
    }
   ],
   "source": [
    "x_train_norm"
   ]
  },
  {
   "cell_type": "code",
   "execution_count": 79,
   "metadata": {},
   "outputs": [
    {
     "data": {
      "text/plain": [
       "matrix([[87421.45282849,  4520.96156582, 20014.38133703, 18457.07864576,\n",
       "         32114.25241255, 29726.17165041,   627.132638  , 16847.15537853]])"
      ]
     },
     "execution_count": 79,
     "metadata": {},
     "output_type": "execute_result"
    }
   ],
   "source": [
    "theta"
   ]
  },
  {
   "cell_type": "code",
   "execution_count": null,
   "metadata": {},
   "outputs": [],
   "source": []
  }
 ],
 "metadata": {
  "kernelspec": {
   "display_name": "Python 2",
   "language": "python",
   "name": "python2"
  },
  "language_info": {
   "codemirror_mode": {
    "name": "ipython",
    "version": 2
   },
   "file_extension": ".py",
   "mimetype": "text/x-python",
   "name": "python",
   "nbconvert_exporter": "python",
   "pygments_lexer": "ipython2",
   "version": "2.7.14"
  }
 },
 "nbformat": 4,
 "nbformat_minor": 2
}
